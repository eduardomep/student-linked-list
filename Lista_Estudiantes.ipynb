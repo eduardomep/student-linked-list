{
  "nbformat": 4,
  "nbformat_minor": 0,
  "metadata": {
    "colab": {
      "name": "Lista Estudiantes.ipynb",
      "provenance": [],
      "authorship_tag": "ABX9TyP6Zzh/0qRXwWaCgeptoXbQ",
      "include_colab_link": true
    },
    "kernelspec": {
      "name": "python3",
      "display_name": "Python 3"
    },
    "language_info": {
      "name": "python"
    }
  },
  "cells": [
    {
      "cell_type": "markdown",
      "metadata": {
        "id": "view-in-github",
        "colab_type": "text"
      },
      "source": [
        "<a href=\"https://colab.research.google.com/github/eduardomep/student-linked-list/blob/main/Lista_Estudiantes.ipynb\" target=\"_parent\"><img src=\"https://colab.research.google.com/assets/colab-badge.svg\" alt=\"Open In Colab\"/></a>"
      ]
    },
    {
      "cell_type": "code",
      "metadata": {
        "id": "HOQMGXUGWeIx"
      },
      "source": [
        ""
      ],
      "execution_count": null,
      "outputs": []
    },
    {
      "cell_type": "markdown",
      "metadata": {
        "id": "D0Xvq3uUWhYx"
      },
      "source": [
        "# Lista enlazada"
      ]
    },
    {
      "cell_type": "markdown",
      "metadata": {
        "id": "tRB0B7O_WmyE"
      },
      "source": [
        "## Clase de estudiantes"
      ]
    },
    {
      "cell_type": "code",
      "metadata": {
        "id": "1gbtAlYjWsr6"
      },
      "source": [
        "class student:\n",
        "  def __init__(self, id, name, age, address, email, career, position):\n",
        "    self.id = id\n",
        "    self.name = name\n",
        "    self.age = age\n",
        "    self.address = address\n",
        "    self.email = email\n",
        "    self.career = career\n",
        "    self.position = position"
      ],
      "execution_count": null,
      "outputs": []
    },
    {
      "cell_type": "markdown",
      "metadata": {
        "id": "-84dy-YAXVPi"
      },
      "source": [
        "## Clase nodo"
      ]
    },
    {
      "cell_type": "code",
      "metadata": {
        "id": "tDJbLJNyXZOS"
      },
      "source": [
        "class node:\n",
        "  def __init__(self, student = None, next = None):\n",
        "    self.student = student\n",
        "    self.next = next"
      ],
      "execution_count": null,
      "outputs": []
    },
    {
      "cell_type": "markdown",
      "metadata": {
        "id": "gCrC5aGhXdwE"
      },
      "source": [
        "## Clase de lista enlazada"
      ]
    },
    {
      "cell_type": "code",
      "metadata": {
        "id": "E1kd6uYjXhq1"
      },
      "source": [
        "class LinkedList:\n",
        "  def __init__(self):\n",
        "    self.first = None\n",
        "\n",
        "  def insert(self, est):\n",
        "    if self.first is None:\n",
        "      self.first = node(student=est)\n",
        "      return \n",
        "    actual = self.first\n",
        "    while actual.next:\n",
        "      actual = actual.next\n",
        "    actual.next = node(student=est)\n",
        "\n",
        "\n",
        "  def run(self):\n",
        "    actual = self.first\n",
        "    while actual != None:\n",
        "      print('carné:',actual.student.id, \"Nombre:\", actual.student.name, \"email:\",actual.student.email, \"-->\" )\n",
        "      actual = actual.next\n",
        "\n",
        "\n",
        "  def delete(self, id):\n",
        "    actual = self.first\n",
        "    previous = None\n",
        "    parameter = id\n",
        "\n",
        "    while actual and actual.student.id != parameter:\n",
        "      previous = actual\n",
        "      actual = actual.next\n",
        "\n",
        "      if previous is None:\n",
        "        self.first = actual.next\n",
        "        actual.siguiente = None\n",
        "      elif actual:\n",
        "        previous.next = actual.next \n",
        "        actual.next = None\n",
        "  \n",
        "  def search(self, id):\n",
        "    actual = self.first\n",
        "    previous = None\n",
        "    parameter = id\n",
        "\n",
        "    while actual and actual.student.id != parameter:\n",
        "      previous = actual\n",
        "      actual = actual.next\n",
        "    \n",
        "    if actual.student.id == parameter:\n",
        "     print('carné:',actual.student.id, \"Nombre:\", actual.student.name, \"Email\",actual.student.email, \"-->\" )"
      ],
      "execution_count": null,
      "outputs": []
    },
    {
      "cell_type": "markdown",
      "metadata": {
        "id": "mGtqXspRZUI6"
      },
      "source": [
        "## Creando estudiantes"
      ]
    },
    {
      "cell_type": "code",
      "metadata": {
        "id": "Z9UT1GrxZXP7"
      },
      "source": [
        "student_1 = student(201900772,\"Mynor Eduardo Peñate Velasquez\",22,\"Zona 4 de Mixco, Guatemala\",\"eduardopeate@gmail.com\",\"Ingenieria en sistemas\",\"UX/UI Designer\")\n",
        "student_2 = student(201900773,\"Andrea Mendez\",22,\"Zona 4 de Mixco, Guatemala\",\"andreaM@gmail.com\",\"Derecho\",\"Juez\")\n",
        "student_3 = student(201900774,\"Abigail Bal\",22,\"Zona 4 de Mixco, Guatemala\",\"abib@gmail.com\",\"Medicina\",\"Pediatra\")"
      ],
      "execution_count": null,
      "outputs": []
    },
    {
      "cell_type": "markdown",
      "metadata": {
        "id": "BqBgcZRaadkR"
      },
      "source": [
        "## Insercción"
      ]
    },
    {
      "cell_type": "code",
      "metadata": {
        "id": "yif3crkTahin"
      },
      "source": [
        "studentList = LinkedList()\n",
        "studentList.insert(student_1)\n",
        "studentList.insert(student_2)\n",
        "studentList.insert(student_3)"
      ],
      "execution_count": null,
      "outputs": []
    },
    {
      "cell_type": "markdown",
      "metadata": {
        "id": "vMWshQ_EbCcj"
      },
      "source": [
        ""
      ]
    },
    {
      "cell_type": "markdown",
      "metadata": {
        "id": "uq6OwPlXbDmF"
      },
      "source": [
        "## Run"
      ]
    },
    {
      "cell_type": "code",
      "metadata": {
        "colab": {
          "base_uri": "https://localhost:8080/"
        },
        "id": "mOtNa5BSbL_G",
        "outputId": "bde2bb41-517d-4bbf-e60f-b1f06dfae677"
      },
      "source": [
        "studentList.run()\n"
      ],
      "execution_count": null,
      "outputs": [
        {
          "output_type": "stream",
          "text": [
            "carné: 201900772 Nombre: Mynor Eduardo Peñate Velasquez email: eduardopeate@gmail.com -->\n",
            "carné: 201900773 Nombre: Andrea Mendez email: andreaM@gmail.com -->\n",
            "carné: 201900774 Nombre: Abigail Bal email: abib@gmail.com -->\n"
          ],
          "name": "stdout"
        }
      ]
    },
    {
      "cell_type": "code",
      "metadata": {
        "id": "tKwYYfs-baYv"
      },
      "source": [
        ""
      ],
      "execution_count": null,
      "outputs": []
    },
    {
      "cell_type": "markdown",
      "metadata": {
        "id": "cCSgknMGbalk"
      },
      "source": [
        "## Eliminando nodo de la lista"
      ]
    },
    {
      "cell_type": "code",
      "metadata": {
        "colab": {
          "base_uri": "https://localhost:8080/"
        },
        "id": "hvwzX8Bbbeyu",
        "outputId": "abd59c5e-b0f1-4580-d219-05c2bba9835f"
      },
      "source": [
        "studentList.delete(201900772)\n",
        "studentList.run()"
      ],
      "execution_count": null,
      "outputs": [
        {
          "output_type": "stream",
          "text": [
            "carné: 201900772 Nombre: Mynor Eduardo Peñate Velasquez email: eduardopeate@gmail.com -->\n",
            "carné: 201900773 Nombre: Andrea Mendez email: andreaM@gmail.com -->\n",
            "carné: 201900774 Nombre: Abigail Bal email: abib@gmail.com -->\n"
          ],
          "name": "stdout"
        }
      ]
    },
    {
      "cell_type": "markdown",
      "metadata": {
        "id": "GWJOF9pub8U1"
      },
      "source": [
        "## Buscando nodo"
      ]
    },
    {
      "cell_type": "code",
      "metadata": {
        "colab": {
          "base_uri": "https://localhost:8080/"
        },
        "id": "nk999wzLb9vM",
        "outputId": "86c4dc49-e5b5-42d7-dffb-748a00c63f03"
      },
      "source": [
        "studentList.search(201900773)"
      ],
      "execution_count": null,
      "outputs": [
        {
          "output_type": "stream",
          "text": [
            "carné: 201900773 Nombre: Andrea Mendez Email andreaM@gmail.com -->\n"
          ],
          "name": "stdout"
        }
      ]
    }
  ]
}